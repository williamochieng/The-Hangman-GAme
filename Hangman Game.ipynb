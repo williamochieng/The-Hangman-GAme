{
 "cells": [
  {
   "cell_type": "code",
   "execution_count": 18,
   "metadata": {},
   "outputs": [
    {
     "data": {
      "text/plain": [
       "'stelantis'"
      ]
     },
     "execution_count": 18,
     "metadata": {},
     "output_type": "execute_result"
    }
   ],
   "source": [
    "def fist_element(input=list):\n",
    "    element_1=input[0]\n",
    "    print(element_1)\n",
    "def third_element_modified(input=list):\n",
    "    element_1=input[0]\n",
    "    return(element_1)\n",
    "third_element_modified(['Stelantis','FCA','VWGroup','BMWGroup','Toyota','Honda Group','Fuji Heavy Industries']).lower()"
   ]
  },
  {
   "cell_type": "code",
   "execution_count": 21,
   "metadata": {},
   "outputs": [
    {
     "data": {
      "text/plain": [
       "3"
      ]
     },
     "execution_count": 21,
     "metadata": {},
     "output_type": "execute_result"
    }
   ],
   "source": [
    "Dict_Example_1={}\n",
    "type(Dict_Example_1)\n",
    "Dict_Example_2={'Key':'Value'}\n",
    "Dict_Example_3 = {'cars':['Stelantis','FCA','VWGroup','BMWGroup','Toyota','Honda Group','Fuji Heavy Industries'],\n",
    "'colors':['Magenta','Cyan','Turquoise'], 'towns':['eldoret','kisumu', 'elementaita']}\n",
    "len(Dict_Example_3)"
   ]
  },
  {
   "cell_type": "code",
   "execution_count": 26,
   "metadata": {},
   "outputs": [
    {
     "data": {
      "text/plain": [
       "['eldoret', 'kisumu', 'elementaita']"
      ]
     },
     "execution_count": 26,
     "metadata": {},
     "output_type": "execute_result"
    }
   ],
   "source": [
    "Dict_Example_3['towns']\n"
   ]
  },
  {
   "cell_type": "code",
   "execution_count": 30,
   "metadata": {},
   "outputs": [
    {
     "ename": "NameError",
     "evalue": "name 'Dict_Example_5' is not defined",
     "output_type": "error",
     "traceback": [
      "\u001b[1;31m---------------------------------------------------------------------------\u001b[0m",
      "\u001b[1;31mNameError\u001b[0m                                 Traceback (most recent call last)",
      "\u001b[1;32m~\\AppData\\Local\\Temp\\ipykernel_7056\\4051565673.py\u001b[0m in \u001b[0;36m<module>\u001b[1;34m\u001b[0m\n\u001b[0;32m      1\u001b[0m \u001b[0mDict_Example_4\u001b[0m\u001b[1;33m=\u001b[0m\u001b[0mdict\u001b[0m\u001b[1;33m(\u001b[0m\u001b[1;33m[\u001b[0m\u001b[1;33m(\u001b[0m\u001b[1;34m'Key'\u001b[0m\u001b[1;33m,\u001b[0m\u001b[1;34m'Value'\u001b[0m\u001b[1;33m)\u001b[0m\u001b[1;33m,\u001b[0m\u001b[1;33m(\u001b[0m\u001b[1;34m'Key_2'\u001b[0m\u001b[1;33m,\u001b[0m\u001b[1;34m'Value_2'\u001b[0m\u001b[1;33m)\u001b[0m\u001b[1;33m]\u001b[0m\u001b[1;33m)\u001b[0m\u001b[1;33m\u001b[0m\u001b[1;33m\u001b[0m\u001b[0m\n\u001b[0;32m      2\u001b[0m \u001b[0mDict_Example_4\u001b[0m\u001b[1;33m[\u001b[0m\u001b[1;34m'Key_2'\u001b[0m\u001b[1;33m]\u001b[0m\u001b[1;33m\u001b[0m\u001b[1;33m\u001b[0m\u001b[0m\n\u001b[1;32m----> 3\u001b[1;33m \u001b[0mDict_Example_5\u001b[0m\u001b[1;33m[\u001b[0m\u001b[1;34m'key'\u001b[0m\u001b[1;33m]\u001b[0m\u001b[1;33m=\u001b[0m\u001b[1;33m[\u001b[0m\u001b[1;34m'value'\u001b[0m\u001b[1;33m]\u001b[0m\u001b[1;33m\u001b[0m\u001b[1;33m\u001b[0m\u001b[0m\n\u001b[0m\u001b[0;32m      4\u001b[0m \u001b[0mDict_Example_5\u001b[0m\u001b[1;33m[\u001b[0m\u001b[1;34m'streets'\u001b[0m\u001b[1;33m]\u001b[0m\u001b[1;33m=\u001b[0m\u001b[1;33m(\u001b[0m\u001b[1;34m'kijabe'\u001b[0m\u001b[1;33m,\u001b[0m \u001b[1;34m'banda'\u001b[0m\u001b[1;33m,\u001b[0m \u001b[1;34m'tom_mboya'\u001b[0m\u001b[1;33m)\u001b[0m\u001b[1;33m\u001b[0m\u001b[1;33m\u001b[0m\u001b[0m\n",
      "\u001b[1;31mNameError\u001b[0m: name 'Dict_Example_5' is not defined"
     ]
    }
   ],
   "source": [
    "Dict_Example_4=dict([('Key','Value'),('Key_2','Value_2')])\n",
    "Dict_Example_4['Key_2']\n",
    "Dict_Example_5['key']=['value']\n",
    "Dict_Example_5['streets']=('kijabe', 'banda', 'tom_mboya')"
   ]
  },
  {
   "cell_type": "code",
   "execution_count": 42,
   "metadata": {},
   "outputs": [],
   "source": [
    "My_Text = \"\"\"You can enable or disable particular IntelliSense features in the Options dialog box, \n",
    "                under Text Editor > C/C++ > Advanced.\n",
    "                To configure IntelliSense for single files that aren't part of a project, \n",
    "                look for the IntelliSense and browsing for non-project files section.\"\"\"\n",
    "\n",
    "My_Text.split()[3]\n",
    "words={}\n",
    "for i in My_Text.split():\n",
    "    words[i[0]]=i.upper()"
   ]
  },
  {
   "cell_type": "markdown",
   "metadata": {},
   "source": [
    "## The Hangman Game"
   ]
  },
  {
   "cell_type": "code",
   "execution_count": 48,
   "metadata": {},
   "outputs": [],
   "source": [
    "import random as rand\n",
    "def get_word():\n",
    "    with open('www.hangmanwords.com/words.txt', 'r') as f:\n",
    "        word_1=f.read().splitlines()\n",
    "    return random.choice(words_1)\n",
    "def game():\n",
    "    chosen_word=get_word()\n",
    "    display=[]\n",
    "    for _ in chosen_word():\n",
    "        display+=\"_\"\n",
    "    end_of_game=False\n",
    "    Lives=7\n",
    "    print(\"GUess the word\", end=\"\")\n",
    "    print(f\"{' '.join(dislay)}\")\n",
    "    print(f\"Lives: {lives}\")\n",
    "    print(stages[lives-1])\n",
    "    if \"_\" not in display:\n",
    "        print(\"Win\")\n",
    "        end_of_game=True"
   ]
  }
 ],
 "metadata": {
  "kernelspec": {
   "display_name": "Python 3.7.1 ('rstudio')",
   "language": "python",
   "name": "python3"
  },
  "language_info": {
   "codemirror_mode": {
    "name": "ipython",
    "version": 3
   },
   "file_extension": ".py",
   "mimetype": "text/x-python",
   "name": "python",
   "nbconvert_exporter": "python",
   "pygments_lexer": "ipython3",
   "version": "3.7.1"
  },
  "orig_nbformat": 4,
  "vscode": {
   "interpreter": {
    "hash": "2824df878085d45f671b99fb9cce3357be43c0072a26b77e96dbc12249227ec0"
   }
  }
 },
 "nbformat": 4,
 "nbformat_minor": 2
}
